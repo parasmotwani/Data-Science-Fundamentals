{
 "cells": [
  {
   "cell_type": "markdown",
   "metadata": {},
   "source": [
    "Importing NumPy"
   ]
  },
  {
   "cell_type": "code",
   "execution_count": 2,
   "metadata": {},
   "outputs": [],
   "source": [
    "import numpy as np"
   ]
  },
  {
   "cell_type": "markdown",
   "metadata": {},
   "source": [
    "Basics"
   ]
  },
  {
   "cell_type": "code",
   "execution_count": 3,
   "metadata": {},
   "outputs": [
    {
     "name": "stdout",
     "output_type": "stream",
     "text": [
      "[1 2 3]\n"
     ]
    }
   ],
   "source": [
    "a = np.array([1,2,3])\n",
    "print(a)"
   ]
  },
  {
   "cell_type": "code",
   "execution_count": 4,
   "metadata": {},
   "outputs": [
    {
     "name": "stdout",
     "output_type": "stream",
     "text": [
      "[[1. 2. 3.]\n",
      " [4. 5. 6.]]\n"
     ]
    }
   ],
   "source": [
    "b = np.array([[1.0,2.0,3.0],[4.0,5.0,6.0]])\n",
    "print(b)"
   ]
  },
  {
   "cell_type": "code",
   "execution_count": 5,
   "metadata": {},
   "outputs": [
    {
     "data": {
      "text/plain": [
       "1"
      ]
     },
     "execution_count": 5,
     "metadata": {},
     "output_type": "execute_result"
    }
   ],
   "source": [
    "# Dimensions?\n",
    "\n",
    "a.ndim"
   ]
  },
  {
   "cell_type": "code",
   "execution_count": 6,
   "metadata": {},
   "outputs": [
    {
     "data": {
      "text/plain": [
       "(2, 3)"
      ]
     },
     "execution_count": 6,
     "metadata": {},
     "output_type": "execute_result"
    }
   ],
   "source": [
    "# Shape?\n",
    "\n",
    "b.shape"
   ]
  },
  {
   "cell_type": "code",
   "execution_count": 7,
   "metadata": {},
   "outputs": [
    {
     "data": {
      "text/plain": [
       "dtype('int64')"
      ]
     },
     "execution_count": 7,
     "metadata": {},
     "output_type": "execute_result"
    }
   ],
   "source": [
    "# Datatype?\n",
    "\n",
    "a.dtype"
   ]
  },
  {
   "cell_type": "code",
   "execution_count": 9,
   "metadata": {},
   "outputs": [
    {
     "data": {
      "text/plain": [
       "8"
      ]
     },
     "execution_count": 9,
     "metadata": {},
     "output_type": "execute_result"
    }
   ],
   "source": [
    "# Size? (in Bytes)\n",
    "\n",
    "a.itemsize"
   ]
  },
  {
   "cell_type": "code",
   "execution_count": 15,
   "metadata": {},
   "outputs": [],
   "source": [
    "# Specifying type\n",
    "\n",
    "x = np.array([2,3,4], dtype='int16')"
   ]
  },
  {
   "cell_type": "code",
   "execution_count": 16,
   "metadata": {},
   "outputs": [
    {
     "data": {
      "text/plain": [
       "dtype('int16')"
      ]
     },
     "execution_count": 16,
     "metadata": {},
     "output_type": "execute_result"
    }
   ],
   "source": [
    "x.dtype"
   ]
  },
  {
   "cell_type": "code",
   "execution_count": 14,
   "metadata": {},
   "outputs": [
    {
     "data": {
      "text/plain": [
       "2"
      ]
     },
     "execution_count": 14,
     "metadata": {},
     "output_type": "execute_result"
    }
   ],
   "source": [
    "x.itemsize"
   ]
  },
  {
   "cell_type": "code",
   "execution_count": 20,
   "metadata": {},
   "outputs": [
    {
     "data": {
      "text/plain": [
       "6"
      ]
     },
     "execution_count": 20,
     "metadata": {},
     "output_type": "execute_result"
    }
   ],
   "source": [
    "# Total Size?\n",
    "\n",
    "x.size * x.itemsize"
   ]
  },
  {
   "cell_type": "code",
   "execution_count": 22,
   "metadata": {},
   "outputs": [
    {
     "data": {
      "text/plain": [
       "6"
      ]
     },
     "execution_count": 22,
     "metadata": {},
     "output_type": "execute_result"
    }
   ],
   "source": [
    "# Another way\n",
    "\n",
    "x.nbytes"
   ]
  },
  {
   "cell_type": "code",
   "execution_count": 23,
   "metadata": {},
   "outputs": [
    {
     "data": {
      "text/plain": [
       "8"
      ]
     },
     "execution_count": 23,
     "metadata": {},
     "output_type": "execute_result"
    }
   ],
   "source": [
    "b.itemsize"
   ]
  },
  {
   "cell_type": "markdown",
   "metadata": {},
   "source": [
    "Slicing numpy arrays"
   ]
  },
  {
   "cell_type": "code",
   "execution_count": 24,
   "metadata": {},
   "outputs": [
    {
     "name": "stdout",
     "output_type": "stream",
     "text": [
      "[[ 1  2  3  4  5  6  7  8  9 10]\n",
      " [11 12 13 14 15 16 17 18 19 20]]\n"
     ]
    }
   ],
   "source": [
    "d = np.array([[1,2,3,4,5,6,7,8,9,10],\n",
    "[11,12,13,14,15,16,17,18,19,20]])\n",
    "print(d)"
   ]
  },
  {
   "cell_type": "code",
   "execution_count": 27,
   "metadata": {},
   "outputs": [
    {
     "name": "stdout",
     "output_type": "stream",
     "text": [
      "19\n",
      "19\n"
     ]
    }
   ],
   "source": [
    "# Get an element (as [row, column])\n",
    "\n",
    "print(d[1,8]) # from the start\n",
    "print(d[1,-2]) # from the end"
   ]
  },
  {
   "cell_type": "code",
   "execution_count": 46,
   "metadata": {},
   "outputs": [
    {
     "name": "stdout",
     "output_type": "stream",
     "text": [
      "[ 1  2  3  4  5  6  7  8  9 10]\n",
      "[11 12 13 14 15 16 17 18 19 20]\n"
     ]
    }
   ],
   "source": [
    "# Get a row\n",
    "\n",
    "print(d[0, :], end = '\\n') # 1st row \n",
    "print(d[1, :]) # 2nd row"
   ]
  },
  {
   "cell_type": "code",
   "execution_count": 39,
   "metadata": {},
   "outputs": [
    {
     "data": {
      "text/plain": [
       "array([ 1,  2,  3,  4,  5,  6,  7,  8,  9, 10])"
      ]
     },
     "execution_count": 39,
     "metadata": {},
     "output_type": "execute_result"
    }
   ],
   "source": [
    "d[0, :]"
   ]
  },
  {
   "cell_type": "code",
   "execution_count": 44,
   "metadata": {},
   "outputs": [
    {
     "name": "stdout",
     "output_type": "stream",
     "text": [
      "[ 1 11]\n",
      "[ 2 12]\n"
     ]
    }
   ],
   "source": [
    "# Get specific column\n",
    "\n",
    "print(d[:, 0], end = '\\n')\n",
    "print(d[:, 1])"
   ]
  },
  {
   "cell_type": "code",
   "execution_count": 42,
   "metadata": {},
   "outputs": [
    {
     "data": {
      "text/plain": [
       "array([ 1, 11])"
      ]
     },
     "execution_count": 42,
     "metadata": {},
     "output_type": "execute_result"
    }
   ],
   "source": [
    "d[:, 0]"
   ]
  },
  {
   "cell_type": "code",
   "execution_count": 49,
   "metadata": {},
   "outputs": [
    {
     "name": "stdout",
     "output_type": "stream",
     "text": [
      "----Rows----\n",
      "[ 1  2  3  4  5  6  7  8  9 10]\n",
      "[11 12 13 14 15 16 17 18 19 20]\n",
      "\n",
      "----Columns----\n",
      "[ 1 11]\n",
      "[ 2 12]\n"
     ]
    }
   ],
   "source": [
    "# Rows and columns can be accessed from the back too\n",
    "\n",
    "print(\"----| Rows |----\")\n",
    "print(d[-2, :], end = '\\n') # 1st row \n",
    "print(d[-1, :]) # 2nd row\n",
    "print('\\n----| Columns |----')\n",
    "print(d[:, -10], end = '\\n')\n",
    "print(d[:, -9])"
   ]
  },
  {
   "cell_type": "code",
   "execution_count": 64,
   "metadata": {},
   "outputs": [
    {
     "name": "stdout",
     "output_type": "stream",
     "text": [
      "----| Print Indices 0,2 from 1st Row |----\n",
      "[1 3]\n",
      "\n",
      "----| Print Indices 0,2,4,6,8 from 2nd Row |----\n",
      "[11 13 15 17 19]\n"
     ]
    }
   ],
   "source": [
    "# Starting and ending from specific indices with steps\n",
    "# Syntax for 1D arrays --> array[startIndex: endIndex: step] \n",
    "# Syntax for 2D arrays --> array[rowIndex, startIndex: endIndex: step] \n",
    "\n",
    "print(\"----| Print Indices 0,2 from 1st Row |----\")\n",
    "print(d[0, 0:4:2]) # will print indices 0,2\n",
    "print(\"\\n----| Print Indices 0,2,4,6,8 from 2nd Row |----\")\n",
    "print(d[1, 0:10:2]) # will print indices 0,2,4,6,8\n",
    "\n",
    "# Stop index('stopIndex element') is always excluded\n",
    "\n"
   ]
  },
  {
   "cell_type": "code",
   "execution_count": 68,
   "metadata": {},
   "outputs": [
    {
     "name": "stdout",
     "output_type": "stream",
     "text": [
      "[1 2 3 4 5 6 7 8 9] \n",
      "\n",
      "[1 2 3 4 5 6 7 8 9] \n",
      "\n",
      "[10  9  8  7  6  5  4  3  2] \n",
      "\n",
      "[10  9  8  7  6  5  4  3  2]\n"
     ]
    }
   ],
   "source": [
    "# Negative indexing works only when for :-\n",
    "# positive stepping startIndex < endIndex i.e, d[0, 0:-1:1]\n",
    "# negative stepping endIndex < startIndex i.e, d[0, -1:0:-1]\n",
    "\n",
    "print(d[0, 0:-1:1], '\\n')\n",
    "\n",
    "print(d[0, -10:-1:1], '\\n')\n",
    "\n",
    "print(d[0, -1:0:-1], '\\n')\n",
    "\n",
    "print(d[0, -1:-10:-1])"
   ]
  },
  {
   "cell_type": "code",
   "execution_count": 79,
   "metadata": {},
   "outputs": [
    {
     "name": "stdout",
     "output_type": "stream",
     "text": [
      "[100 404 404 404 404 404 404 404 404 404] \n",
      "\n",
      "[[100 404 404 404 404 404 404 404 404 404]\n",
      " [ 11 123  13  14  15  16  17  18  19  20]]\n"
     ]
    }
   ],
   "source": [
    "# Changing/updating an element\n",
    "\n",
    "# at a specific position\n",
    "d[0,0] = 100\n",
    "print(d[0], '\\n')\n",
    "print(d)"
   ]
  },
  {
   "cell_type": "code",
   "execution_count": 80,
   "metadata": {},
   "outputs": [
    {
     "name": "stdout",
     "output_type": "stream",
     "text": [
      "[123 123] \n",
      "\n",
      "[[100 123 404 404 404 404 404 404 404 404]\n",
      " [ 11 123  13  14  15  16  17  18  19  20]]\n"
     ]
    }
   ],
   "source": [
    "# an entire column with same element\n",
    "d[:,1] = 123\n",
    "print(d[:,1], '\\n')\n",
    "print(d)"
   ]
  },
  {
   "cell_type": "code",
   "execution_count": 81,
   "metadata": {},
   "outputs": [
    {
     "name": "stdout",
     "output_type": "stream",
     "text": [
      "[404 404 404 404 404 404 404 404 404 404] \n",
      "\n",
      "[[404 404 404 404 404 404 404 404 404 404]\n",
      " [ 11 123  13  14  15  16  17  18  19  20]]\n"
     ]
    }
   ],
   "source": [
    "# an entire row with same element\n",
    "d[0,:] = 404\n",
    "print(d[0,:], '\\n')\n",
    "print(d)"
   ]
  },
  {
   "cell_type": "code",
   "execution_count": 88,
   "metadata": {},
   "outputs": [
    {
     "name": "stdout",
     "output_type": "stream",
     "text": [
      "[1 2] \n",
      "\n",
      "[[  1 404 404 404 404 404 404 404 404 404]\n",
      " [  2 123  13  14  15  16  17  18  19  20]]\n"
     ]
    }
   ],
   "source": [
    "# updating column with different elements\n",
    "d[:,0] = [1,2]\n",
    "print(d[:,0], '\\n')\n",
    "print(d)\n"
   ]
  },
  {
   "cell_type": "code",
   "execution_count": 89,
   "metadata": {},
   "outputs": [
    {
     "name": "stdout",
     "output_type": "stream",
     "text": [
      "[ 100  200  300  400  500  600  700  800  900 1000] \n",
      "\n",
      "[[ 100  200  300  400  500  600  700  800  900 1000]\n",
      " [   2  123   13   14   15   16   17   18   19   20]]\n"
     ]
    }
   ],
   "source": [
    "# updating column with different elements\n",
    "d[0,:] = [100,200,300,400,500,600,700,800,900,1000]\n",
    "print(d[0,:], '\\n')\n",
    "print(d)"
   ]
  },
  {
   "cell_type": "code",
   "execution_count": null,
   "metadata": {},
   "outputs": [],
   "source": []
  }
 ],
 "metadata": {
  "kernelspec": {
   "display_name": "base",
   "language": "python",
   "name": "python3"
  },
  "language_info": {
   "codemirror_mode": {
    "name": "ipython",
    "version": 3
   },
   "file_extension": ".py",
   "mimetype": "text/x-python",
   "name": "python",
   "nbconvert_exporter": "python",
   "pygments_lexer": "ipython3",
   "version": "3.11.5"
  }
 },
 "nbformat": 4,
 "nbformat_minor": 2
}
